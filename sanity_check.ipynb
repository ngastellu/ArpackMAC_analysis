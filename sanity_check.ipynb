{
 "cells": [
  {
   "cell_type": "markdown",
   "metadata": {},
   "source": [
    "# Sanity check of ARAPCK results: comparison with QCFFPI results on the same 10nm $\\times$ 10nm MAC structures"
   ]
  },
  {
   "cell_type": "code",
   "execution_count": 2,
   "metadata": {},
   "outputs": [],
   "source": [
    "import numpy as np\n",
    "from qcnico.qcffpi_io import read_energies, read_MO_file\n",
    "from utils_arpack import gen_mos, gen_energies, find_redundant_MOs\n",
    "\n",
    "\n",
    "def gen_qcffpi_energies(edir,lbls, natoms,filename_template='orb_energy_pCNN_10x10'):\n",
    "    for n, N in zip(lbls,natoms):\n",
    "        yield read_energies(edir + f'{filename_template}-{n}.dat', Natoms=N)\n",
    "\n",
    "def gen_pos_MOs(Mdir,lbls, natoms, filename_template='MOs_pCNN_10x10'):\n",
    "    for n, N in zip(lbls,natoms):\n",
    "        yield read_MO_file(Mdir + f'{filename_template}-{n}.dat', Natoms=N)\n",
    "\n",
    "\n",
    "qcffpi_dir = '/Users/nico/Desktop/simulation_outputs/qcffpi_data/'\n",
    "qcffpi_edir = qcffpi_dir + 'orbital_energies/10x10_pCNN_MAC_ensemble_TB/'\n",
    "qcffpi_Mdir = qcffpi_dir + 'MO_coefs/10x10_pCNN_MAC_ensemble_TB/'\n",
    "\n",
    "arpack_dir = '/Users/nico/Desktop/simulation_outputs/percolation/10x10/'\n",
    "arpack_edir = arpack_dir + 'eARPACK/'\n",
    "arpack_Mdir = arpack_dir + 'MOs_ARPACK/'\n",
    "\n",
    "natoms_file = qcffpi_dir + 'natoms.txt'\n",
    "\n",
    "with open(natoms_file) as fo:\n",
    "    fo.readline()\n",
    "    fo.readline()\n",
    "    lines = fo.readlines()\n",
    "\n",
    "lbls_natoms = np.array([list(map(int, l.strip().split())) for l in lines])\n",
    "\n",
    "lbls, natoms = lbls_natoms.T\n",
    "\n",
    "energies_qcffpi = gen_qcffpi_energies(qcffpi_edir, lbls, natoms)\n",
    "MOs_qcffpi = gen_pos_MOs(qcffpi_Mdir, lbls, natoms)\n",
    "\n",
    "energies_arpack = gen_energies(arpack_edir,lbls)\n",
    "MOs_arpack = gen_mos(arpack_Mdir,lbls)"
   ]
  },
  {
   "cell_type": "markdown",
   "metadata": {},
   "source": [
    "For each MAC sample, find the proportion of ARPACK eigenpairs that are basically equivalent to QCFFPI eigenpairs (with similiarity threshold $\\epsilon = 10^{-6}$ )"
   ]
  },
  {
   "cell_type": "code",
   "execution_count": 3,
   "metadata": {},
   "outputs": [
    {
     "ename": "FileNotFoundError",
     "evalue": "[Errno 2] No such file or directory: '/Users/nico/Desktop/simulation_outputs/percolation/10x10/eARPACK//eARPACK_bigMAC-14.npy'",
     "output_type": "error",
     "traceback": [
      "\u001b[0;31m---------------------------------------------------------------------------\u001b[0m",
      "\u001b[0;31mFileNotFoundError\u001b[0m                         Traceback (most recent call last)",
      "Cell \u001b[0;32mIn [3], line 3\u001b[0m\n\u001b[1;32m      1\u001b[0m equiv_fraction \u001b[38;5;241m=\u001b[39m np\u001b[38;5;241m.\u001b[39mzeros(\u001b[38;5;28mlen\u001b[39m(lbls))\n\u001b[0;32m----> 3\u001b[0m \u001b[38;5;28;01mfor\u001b[39;00m k, eq, ea, Mq, Ma \u001b[38;5;129;01min\u001b[39;00m \u001b[38;5;28mzip\u001b[39m(\u001b[38;5;28mrange\u001b[39m(\u001b[38;5;28mlen\u001b[39m(lbls)), energies_qcffpi,energies_arpack,MOs_qcffpi, MOs_arpack):\n\u001b[1;32m      4\u001b[0m     ii, jj \u001b[38;5;241m=\u001b[39m find_redundant_MOs(ea, eq, Mq, Ma, e_eps\u001b[38;5;241m=\u001b[39m\u001b[38;5;241m1e-6\u001b[39m, M_eps\u001b[38;5;241m=\u001b[39m\u001b[38;5;241m1e-6\u001b[39m)\n\u001b[1;32m      5\u001b[0m     equiv_fraction[k] \u001b[38;5;241m=\u001b[39m \u001b[38;5;28mlen\u001b[39m(ii)\u001b[38;5;241m/\u001b[39mea\u001b[38;5;241m.\u001b[39mshape[\u001b[38;5;241m0\u001b[39m]\n",
      "File \u001b[0;32m~/Desktop/scripts/ArpackMAC/utils_arpack.py:15\u001b[0m, in \u001b[0;36mgen_energies\u001b[0;34m(edir, lbls, filename_template)\u001b[0m\n\u001b[1;32m     13\u001b[0m \u001b[38;5;28;01mdef\u001b[39;00m \u001b[38;5;21mgen_energies\u001b[39m(edir,lbls,filename_template\u001b[38;5;241m=\u001b[39m\u001b[38;5;124m'\u001b[39m\u001b[38;5;124meARPACK_bigMAC\u001b[39m\u001b[38;5;124m'\u001b[39m):\n\u001b[1;32m     14\u001b[0m     \u001b[38;5;28;01mfor\u001b[39;00m nn \u001b[38;5;129;01min\u001b[39;00m lbls:\n\u001b[0;32m---> 15\u001b[0m         \u001b[38;5;28;01myield\u001b[39;00m \u001b[43mnp\u001b[49m\u001b[38;5;241;43m.\u001b[39;49m\u001b[43mload\u001b[49m\u001b[43m(\u001b[49m\u001b[43medir\u001b[49m\u001b[38;5;241;43m+\u001b[39;49m\u001b[38;5;124;43mf\u001b[39;49m\u001b[38;5;124;43m'\u001b[39;49m\u001b[38;5;124;43m/\u001b[39;49m\u001b[38;5;132;43;01m{\u001b[39;49;00m\u001b[43mfilename_template\u001b[49m\u001b[38;5;132;43;01m}\u001b[39;49;00m\u001b[38;5;124;43m-\u001b[39;49m\u001b[38;5;132;43;01m{\u001b[39;49;00m\u001b[43mnn\u001b[49m\u001b[38;5;132;43;01m}\u001b[39;49;00m\u001b[38;5;124;43m.npy\u001b[39;49m\u001b[38;5;124;43m'\u001b[39;49m\u001b[43m)\u001b[49m\n",
      "File \u001b[0;32m~/miniconda3/lib/python3.9/site-packages/numpy/lib/npyio.py:407\u001b[0m, in \u001b[0;36mload\u001b[0;34m(file, mmap_mode, allow_pickle, fix_imports, encoding)\u001b[0m\n\u001b[1;32m    405\u001b[0m     own_fid \u001b[38;5;241m=\u001b[39m \u001b[38;5;28;01mFalse\u001b[39;00m\n\u001b[1;32m    406\u001b[0m \u001b[38;5;28;01melse\u001b[39;00m:\n\u001b[0;32m--> 407\u001b[0m     fid \u001b[38;5;241m=\u001b[39m stack\u001b[38;5;241m.\u001b[39menter_context(\u001b[38;5;28;43mopen\u001b[39;49m\u001b[43m(\u001b[49m\u001b[43mos_fspath\u001b[49m\u001b[43m(\u001b[49m\u001b[43mfile\u001b[49m\u001b[43m)\u001b[49m\u001b[43m,\u001b[49m\u001b[43m \u001b[49m\u001b[38;5;124;43m\"\u001b[39;49m\u001b[38;5;124;43mrb\u001b[39;49m\u001b[38;5;124;43m\"\u001b[39;49m\u001b[43m)\u001b[49m)\n\u001b[1;32m    408\u001b[0m     own_fid \u001b[38;5;241m=\u001b[39m \u001b[38;5;28;01mTrue\u001b[39;00m\n\u001b[1;32m    410\u001b[0m \u001b[38;5;66;03m# Code to distinguish from NumPy binary files and pickles.\u001b[39;00m\n",
      "\u001b[0;31mFileNotFoundError\u001b[0m: [Errno 2] No such file or directory: '/Users/nico/Desktop/simulation_outputs/percolation/10x10/eARPACK//eARPACK_bigMAC-14.npy'"
     ]
    }
   ],
   "source": [
    "equiv_fraction = np.zeros(len(lbls))\n",
    "\n",
    "for k, eq, ea, Mq, Ma in zip(range(len(lbls)), energies_qcffpi,energies_arpack,MOs_qcffpi, MOs_arpack):\n",
    "    ii, jj = find_redundant_MOs(ea, eq, Mq, Ma, e_eps=1e-6, M_eps=1e-6)\n",
    "    equiv_fraction[k] = len(ii)/ea.shape[0]\n",
    "        "
   ]
  }
 ],
 "metadata": {
  "kernelspec": {
   "display_name": "base",
   "language": "python",
   "name": "python3"
  },
  "language_info": {
   "codemirror_mode": {
    "name": "ipython",
    "version": 3
   },
   "file_extension": ".py",
   "mimetype": "text/x-python",
   "name": "python",
   "nbconvert_exporter": "python",
   "pygments_lexer": "ipython3",
   "version": "3.9.17"
  }
 },
 "nbformat": 4,
 "nbformat_minor": 2
}
